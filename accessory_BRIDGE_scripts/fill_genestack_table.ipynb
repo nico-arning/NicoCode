{
 "cells": [
  {
   "cell_type": "code",
   "execution_count": 1,
   "id": "6950e19b",
   "metadata": {},
   "outputs": [],
   "source": [
    "experiment_title = \"ALITHEA_Full_service_Multiomics_Botrytis_cinerea\"\n",
    "s3_folder_name = \"20250116_PicassoXBridge_LYON_lysate_fullservice\"\n",
    "start_genestack_table = \"ALITHEA_Full_service_Multiomics_Botrytis_cinerea.xlsx\""
   ]
  },
  {
   "cell_type": "code",
   "execution_count": 2,
   "id": "0c060575",
   "metadata": {},
   "outputs": [
    {
     "name": "stderr",
     "output_type": "stream",
     "text": [
      "mkdir: cannot create directory ‘s3_mount’: File exists\n"
     ]
    }
   ],
   "source": [
    "import os\n",
    "import glob\n",
    "base_dir = \"/home/ubuntu/batch2_alithea\"\n",
    "sit_table_alithea = f\"{base_dir}/s3_mount/Experiments/{s3_folder_name}/AMP0313/sample_info_minimal_SIT.xlsx\"\n",
    "os.system(f\". {base_dir}/s3fs.sh\")\n",
    "meta_folder = f\"{base_dir}/s3_mount/Experiments/{s3_folder_name}/MetaData\"\n",
    "raw_counts = f\"{meta_folder}/full_raw_matrix_and_meta.csv\"\n",
    "norm_counts = f\"{meta_folder}/full_norm_matrix_and_meta.csv\"\n",
    "metadata = list(glob.glob(f\"{meta_folder}/*.xlsx\"))[0]"
   ]
  },
  {
   "cell_type": "code",
   "execution_count": 4,
   "id": "09ba935c",
   "metadata": {},
   "outputs": [
    {
     "name": "stdout",
     "output_type": "stream",
     "text": [
      "                                                   Bcin01g00010  Bcin01g00020  \\\n",
      "Metadata_sample_id                                                              \n",
      "L111224TS01_01_A01_DMSO_1.0                           38.886375      8.045457   \n",
      "L111224TS01_01_A02_BCS-AK75639_3.703703703703704       5.367342      2.236393   \n",
      "L111224TS01_01_A03_BCS-CZ69404_0.1371742112482853      5.229848      2.816072   \n",
      "L111224TS01_01_A04_BCS-DG83654_0.0152415790275872      5.885352      2.140128   \n",
      "L111224TS01_01_A05_BCS-AA31476_11.111111111111112      3.669512      1.467805   \n",
      "\n",
      "                                                   Bcin01g00030  Bcin01g00040  \\\n",
      "Metadata_sample_id                                                              \n",
      "L111224TS01_01_A01_DMSO_1.0                           69.056838     22.460234   \n",
      "L111224TS01_01_A02_BCS-AK75639_3.703703703703704       8.721931      2.460032   \n",
      "L111224TS01_01_A03_BCS-CZ69404_0.1371742112482853     12.068880      2.816072   \n",
      "L111224TS01_01_A04_BCS-DG83654_0.0152415790275872      4.280256      1.070064   \n",
      "L111224TS01_01_A05_BCS-AA31476_11.111111111111112      2.935610      2.201707   \n",
      "\n",
      "                                                   Bcin01g00050  Bcin01g00060  \\\n",
      "Metadata_sample_id                                                              \n",
      "L111224TS01_01_A01_DMSO_1.0                            6.704547     50.954560   \n",
      "L111224TS01_01_A02_BCS-AK75639_3.703703703703704       2.012753      5.814621   \n",
      "L111224TS01_01_A03_BCS-CZ69404_0.1371742112482853      0.402296      9.252808   \n",
      "L111224TS01_01_A04_BCS-DG83654_0.0152415790275872      1.605096      4.280256   \n",
      "L111224TS01_01_A05_BCS-AA31476_11.111111111111112      1.467805      3.669512   \n",
      "\n",
      "                                                   Bcin01g00070  Bcin01g00080  \\\n",
      "Metadata_sample_id                                                              \n",
      "L111224TS01_01_A01_DMSO_1.0                           38.551147     28.829554   \n",
      "L111224TS01_01_A02_BCS-AK75639_3.703703703703704      32.874970     12.076520   \n",
      "L111224TS01_01_A03_BCS-CZ69404_0.1371742112482853     24.942351     15.287247   \n",
      "L111224TS01_01_A04_BCS-DG83654_0.0152415790275872     34.242050      9.630576   \n",
      "L111224TS01_01_A05_BCS-AA31476_11.111111111111112     19.081462     23.484877   \n",
      "\n",
      "                                                   Bcin01g00090  Bcin01g00100  \\\n",
      "Metadata_sample_id                                                              \n",
      "L111224TS01_01_A01_DMSO_1.0                           32.517055      4.022728   \n",
      "L111224TS01_01_A02_BCS-AK75639_3.703703703703704       4.249146      0.447279   \n",
      "L111224TS01_01_A03_BCS-CZ69404_0.1371742112482853      3.620664      0.402296   \n",
      "L111224TS01_01_A04_BCS-DG83654_0.0152415790275872      1.605096      0.535032   \n",
      "L111224TS01_01_A05_BCS-AA31476_11.111111111111112      5.871219      0.000000   \n",
      "\n",
      "                                                   ...  nbis-gene-2  \\\n",
      "Metadata_sample_id                                 ...                \n",
      "L111224TS01_01_A01_DMSO_1.0                        ...          0.0   \n",
      "L111224TS01_01_A02_BCS-AK75639_3.703703703703704   ...          0.0   \n",
      "L111224TS01_01_A03_BCS-CZ69404_0.1371742112482853  ...          0.0   \n",
      "L111224TS01_01_A04_BCS-DG83654_0.0152415790275872  ...          0.0   \n",
      "L111224TS01_01_A05_BCS-AA31476_11.111111111111112  ...          0.0   \n",
      "\n",
      "                                                   Metadata_Wells  \\\n",
      "Metadata_sample_id                                                  \n",
      "L111224TS01_01_A01_DMSO_1.0                                   A01   \n",
      "L111224TS01_01_A02_BCS-AK75639_3.703703703703704              A02   \n",
      "L111224TS01_01_A03_BCS-CZ69404_0.1371742112482853             A03   \n",
      "L111224TS01_01_A04_BCS-DG83654_0.0152415790275872             A04   \n",
      "L111224TS01_01_A05_BCS-AA31476_11.111111111111112             A05   \n",
      "\n",
      "                                                   Metadata_plate  \\\n",
      "Metadata_sample_id                                                  \n",
      "L111224TS01_01_A01_DMSO_1.0                        L111224TS01_01   \n",
      "L111224TS01_01_A02_BCS-AK75639_3.703703703703704   L111224TS01_01   \n",
      "L111224TS01_01_A03_BCS-CZ69404_0.1371742112482853  L111224TS01_01   \n",
      "L111224TS01_01_A04_BCS-DG83654_0.0152415790275872  L111224TS01_01   \n",
      "L111224TS01_01_A05_BCS-AA31476_11.111111111111112  L111224TS01_01   \n",
      "\n",
      "                                                   Metadata_row  Metadata_col  \\\n",
      "Metadata_sample_id                                                              \n",
      "L111224TS01_01_A01_DMSO_1.0                                   A           1.0   \n",
      "L111224TS01_01_A02_BCS-AK75639_3.703703703703704              A           2.0   \n",
      "L111224TS01_01_A03_BCS-CZ69404_0.1371742112482853             A           3.0   \n",
      "L111224TS01_01_A04_BCS-DG83654_0.0152415790275872             A           4.0   \n",
      "L111224TS01_01_A05_BCS-AA31476_11.111111111111112             A           5.0   \n",
      "\n",
      "                                                                  Metadata_MOA  \\\n",
      "Metadata_sample_id                                                               \n",
      "L111224TS01_01_A01_DMSO_1.0                                               DMSO   \n",
      "L111224TS01_01_A02_BCS-AK75639_3.703703703703704          lipid other - ACCase   \n",
      "L111224TS01_01_A03_BCS-CZ69404_0.1371742112482853            lipid other - SPT   \n",
      "L111224TS01_01_A04_BCS-DG83654_0.0152415790275872            lipid other - SPT   \n",
      "L111224TS01_01_A05_BCS-AA31476_11.111111111111112  lipid SBI - C14 demethylase   \n",
      "\n",
      "                                                   Metadata_fraction_nb  \\\n",
      "Metadata_sample_id                                                        \n",
      "L111224TS01_01_A01_DMSO_1.0                                        DMSO   \n",
      "L111224TS01_01_A02_BCS-AK75639_3.703703703703704             ULA711-1-1   \n",
      "L111224TS01_01_A03_BCS-CZ69404_0.1371742112482853           LCG6903-2-4   \n",
      "L111224TS01_01_A04_BCS-DG83654_0.0152415790275872          LGJE4703-1-1   \n",
      "L111224TS01_01_A05_BCS-AA31476_11.111111111111112             TBB28-1-1   \n",
      "\n",
      "                                                   Metadata_treatments  \\\n",
      "Metadata_sample_id                                                       \n",
      "L111224TS01_01_A01_DMSO_1.0                                       DMSO   \n",
      "L111224TS01_01_A02_BCS-AK75639_3.703703703703704           BCS-AK75639   \n",
      "L111224TS01_01_A03_BCS-CZ69404_0.1371742112482853          BCS-CZ69404   \n",
      "L111224TS01_01_A04_BCS-DG83654_0.0152415790275872          BCS-DG83654   \n",
      "L111224TS01_01_A05_BCS-AA31476_11.111111111111112          BCS-AA31476   \n",
      "\n",
      "                                                   Metadata_concentration  \\\n",
      "Metadata_sample_id                                                          \n",
      "L111224TS01_01_A01_DMSO_1.0                                      1.000000   \n",
      "L111224TS01_01_A02_BCS-AK75639_3.703703703703704                 3.703704   \n",
      "L111224TS01_01_A03_BCS-CZ69404_0.1371742112482853                0.137174   \n",
      "L111224TS01_01_A04_BCS-DG83654_0.0152415790275872                0.015242   \n",
      "L111224TS01_01_A05_BCS-AA31476_11.111111111111112               11.111111   \n",
      "\n",
      "                                                                                  Metadata_sample_id  \n",
      "Metadata_sample_id                                                                                    \n",
      "L111224TS01_01_A01_DMSO_1.0                                              L111224TS01_01_A01_DMSO_1.0  \n",
      "L111224TS01_01_A02_BCS-AK75639_3.703703703703704    L111224TS01_01_A02_BCS-AK75639_3.703703703703704  \n",
      "L111224TS01_01_A03_BCS-CZ69404_0.1371742112482853  L111224TS01_01_A03_BCS-CZ69404_0.1371742112482853  \n",
      "L111224TS01_01_A04_BCS-DG83654_0.0152415790275872  L111224TS01_01_A04_BCS-DG83654_0.0152415790275872  \n",
      "L111224TS01_01_A05_BCS-AA31476_11.111111111111112  L111224TS01_01_A05_BCS-AA31476_11.111111111111112  \n",
      "\n",
      "[5 rows x 12203 columns]\n"
     ]
    }
   ],
   "source": [
    "import pandas as pd \n",
    "\n",
    "df = pd.read_csv(norm_counts, index_col=0)\n",
    "df[\"Metadata_sample_id\"]= df[\"Metadata_plate\"] + \"_\" + df[\"Metadata_Wells\"]+ \"_\" + df[\"Metadata_treatments\"]+ \"_\" + df[\"Metadata_concentration\"].astype(str)\n",
    "meta_cols = [ col for col in df.columns if col.startswith(\"Metadata_\")]\n",
    "gene_cols = [ col for col in df.columns if not col.startswith(\"Metadata_\")]\n",
    "df.index = df[\"Metadata_sample_id\"]\n",
    "df[gene_cols].T.to_csv(f\"{experiment_title}.counts.deseq.normalised.tsv\", index=True, sep = \"\\t\")\n",
    "print(df.head())\n"
   ]
  },
  {
   "cell_type": "code",
   "execution_count": 10,
   "id": "e206b799",
   "metadata": {},
   "outputs": [
    {
     "name": "stdout",
     "output_type": "stream",
     "text": [
      "                                 AOB78_gp01  AOB78_gp02  AOB78_gp03  \\\n",
      "Metadata_sample_id                                                    \n",
      "plate1_24h_A01_DMSO_25.0                  5         117          27   \n",
      "plate1_24h_A02_DMSO_25.0                  2         131          20   \n",
      "plate1_24h_A03_BCS-DH19921_25.0           2          74          15   \n",
      "plate1_24h_A04_BCS-DH19921_2.5            6         136          28   \n",
      "plate1_24h_A05_BCS-CB38799_25.0           7         140          25   \n",
      "\n",
      "                                 AOB78_gp04  AOB78_gp05  AOB78_gp06  \\\n",
      "Metadata_sample_id                                                    \n",
      "plate1_24h_A01_DMSO_25.0                  0          57           9   \n",
      "plate1_24h_A02_DMSO_25.0                  1          66          17   \n",
      "plate1_24h_A03_BCS-DH19921_25.0           0          39           8   \n",
      "plate1_24h_A04_BCS-DH19921_2.5            2          56          14   \n",
      "plate1_24h_A05_BCS-CB38799_25.0           2          82           8   \n",
      "\n",
      "                                 AOB78_gp07  AOB78_gp08  AOB78_gp09  \\\n",
      "Metadata_sample_id                                                    \n",
      "plate1_24h_A01_DMSO_25.0                 31          52         704   \n",
      "plate1_24h_A02_DMSO_25.0                 21          61         532   \n",
      "plate1_24h_A03_BCS-DH19921_25.0          15          40         220   \n",
      "plate1_24h_A04_BCS-DH19921_2.5           27          51         413   \n",
      "plate1_24h_A05_BCS-CB38799_25.0          20          65         614   \n",
      "\n",
      "                                 AOB78_gp10  ...  Trnay-gua_9  Metadata_Wells  \\\n",
      "Metadata_sample_id                           ...                                \n",
      "plate1_24h_A01_DMSO_25.0                  0  ...            0             A01   \n",
      "plate1_24h_A02_DMSO_25.0                  0  ...            0             A02   \n",
      "plate1_24h_A03_BCS-DH19921_25.0           0  ...            0             A03   \n",
      "plate1_24h_A04_BCS-DH19921_2.5            0  ...            0             A04   \n",
      "plate1_24h_A05_BCS-CB38799_25.0           0  ...            0             A05   \n",
      "\n",
      "                                 Metadata_timepoint  Metadata_treatments  \\\n",
      "Metadata_sample_id                                                         \n",
      "plate1_24h_A01_DMSO_25.0                          6                 DMSO   \n",
      "plate1_24h_A02_DMSO_25.0                         24                 DMSO   \n",
      "plate1_24h_A03_BCS-DH19921_25.0                  24          BCS-DH19921   \n",
      "plate1_24h_A04_BCS-DH19921_2.5                   24          BCS-DH19921   \n",
      "plate1_24h_A05_BCS-CB38799_25.0                  24          BCS-CB38799   \n",
      "\n",
      "                                 Metadata_concentration  Metadata_plate  \\\n",
      "Metadata_sample_id                                                        \n",
      "plate1_24h_A01_DMSO_25.0                           25.0      plate1_24h   \n",
      "plate1_24h_A02_DMSO_25.0                           25.0      plate1_24h   \n",
      "plate1_24h_A03_BCS-DH19921_25.0                    25.0      plate1_24h   \n",
      "plate1_24h_A04_BCS-DH19921_2.5                      2.5      plate1_24h   \n",
      "plate1_24h_A05_BCS-CB38799_25.0                    25.0      plate1_24h   \n",
      "\n",
      "                                 Metadata_BCS  Metadata_MOA  \\\n",
      "Metadata_sample_id                                            \n",
      "plate1_24h_A01_DMSO_25.0                 DMSO          DMSO   \n",
      "plate1_24h_A02_DMSO_25.0                 DMSO          DMSO   \n",
      "plate1_24h_A03_BCS-DH19921_25.0   BCS-DH19921  Cytoskeleton   \n",
      "plate1_24h_A04_BCS-DH19921_2.5    BCS-DH19921  Cytoskeleton   \n",
      "plate1_24h_A05_BCS-CB38799_25.0   BCS-CB38799  Cytoskeleton   \n",
      "\n",
      "                                 Metadata_total_counts  \\\n",
      "Metadata_sample_id                                       \n",
      "plate1_24h_A01_DMSO_25.0                       2251856   \n",
      "plate1_24h_A02_DMSO_25.0                       2091416   \n",
      "plate1_24h_A03_BCS-DH19921_25.0                 976756   \n",
      "plate1_24h_A04_BCS-DH19921_2.5                 1445079   \n",
      "plate1_24h_A05_BCS-CB38799_25.0                1761104   \n",
      "\n",
      "                                              Metadata_sample_id  \n",
      "Metadata_sample_id                                                \n",
      "plate1_24h_A01_DMSO_25.0                plate1_24h_A01_DMSO_25.0  \n",
      "plate1_24h_A02_DMSO_25.0                plate1_24h_A02_DMSO_25.0  \n",
      "plate1_24h_A03_BCS-DH19921_25.0  plate1_24h_A03_BCS-DH19921_25.0  \n",
      "plate1_24h_A04_BCS-DH19921_2.5    plate1_24h_A04_BCS-DH19921_2.5  \n",
      "plate1_24h_A05_BCS-CB38799_25.0  plate1_24h_A05_BCS-CB38799_25.0  \n",
      "\n",
      "[5 rows x 16793 columns]\n"
     ]
    }
   ],
   "source": [
    "\n",
    "df = pd.read_csv(raw_counts, index_col=0)\n",
    "gene_cols = [ col for col in df.columns if not col.startswith(\"Metadata_\")]\n",
    "df[\"Metadata_sample_id\"]= df[\"Metadata_plate\"] + \"_\" + df[\"Metadata_Wells\"]+ \"_\" + df[\"Metadata_treatments\"]+ \"_\" + df[\"Metadata_concentration\"].astype(str)\n",
    "meta_cols = [ col for col in df.columns if col.startswith(\"Metadata_\")]\n",
    "df.index = df[\"Metadata_sample_id\"]\n",
    "df[gene_cols].T.to_csv(f\"{experiment_title}.counts.raw.tsv\", index=True, sep = \"\\t\")\n",
    "print(df.head())\n",
    "\n",
    "df = df[meta_cols]"
   ]
  },
  {
   "cell_type": "code",
   "execution_count": 12,
   "id": "af6df4e4",
   "metadata": {},
   "outputs": [
    {
     "data": {
      "text/plain": [
       "0"
      ]
     },
     "execution_count": 12,
     "metadata": {},
     "output_type": "execute_result"
    }
   ],
   "source": [
    "import os\n",
    "os.system(f\"cp {start_genestack_table} {experiment_title}.xlsx\")"
   ]
  },
  {
   "cell_type": "code",
   "execution_count": 13,
   "id": "4711739c",
   "metadata": {},
   "outputs": [],
   "source": [
    "meta_df = pd.read_excel(metadata, sheet_name=\"Barcodes\", index_col=0)\n",
    "def create_long_format(tmp_df, value_name):\n",
    "    tmp_df[\"index\"] = tmp_df.index\n",
    "    long_df = tmp_df.reset_index().melt(id_vars='index', var_name='Column', value_name=value_name)\n",
    "    long_df = long_df[(long_df[\"Column\"] != \"Barcodes\") & (long_df[\"Column\"] != \"level_0\")] \n",
    "    long_df['Metadata_Wells'] = long_df['index'] + long_df['Column'].astype(str).str.zfill(2)\n",
    "    return long_df.drop(columns=['index', 'Column'])\n",
    "meta_df = create_long_format(meta_df, \"Metadata_Barcodes\")"
   ]
  },
  {
   "cell_type": "code",
   "execution_count": 14,
   "id": "a004eb18",
   "metadata": {},
   "outputs": [],
   "source": [
    "df = df.merge(meta_df, on=\"Metadata_Wells\", how=\"left\")"
   ]
  },
  {
   "cell_type": "code",
   "execution_count": 15,
   "id": "56b3dbd6",
   "metadata": {},
   "outputs": [],
   "source": [
    "plate_info = pd.read_excel(sit_table_alithea, sheet_name = \"Sheet1\")\n",
    "plate_dict = dict(zip(plate_info[\"Plate.ID\"], plate_info[\"LibraryName\"]))"
   ]
  },
  {
   "cell_type": "code",
   "execution_count": 16,
   "id": "702854b5",
   "metadata": {},
   "outputs": [],
   "source": [
    "df[\"LibraryName\"] = df[\"Metadata_plate\"].map(plate_dict)\n",
    "if \"Metadata_Barcodes_x\" in df.columns:\n",
    "    df.rename(columns={\"Metadata_Barcodes_x\": \"Metadata_Barcodes\"}, inplace=True)"
   ]
  },
  {
   "cell_type": "code",
   "execution_count": 17,
   "id": "b5f8dd59",
   "metadata": {},
   "outputs": [],
   "source": [
    "link_p360_ids = \"https://genestack-odm.velocity.ag/ui/study/GSF000471\""
   ]
  },
  {
   "cell_type": "code",
   "execution_count": 18,
   "id": "badb5808",
   "metadata": {},
   "outputs": [],
   "source": [
    "import pandas as pd\n",
    "\n",
    "# Step 1: Load the Excel file\n",
    "file_path = f'{experiment_title}.xlsx'  # Replace with your file path\n",
    "sheet_name = 'SAMPLE'  # Replace with the name of the sheet you want to modify\n",
    "\n",
    "# Step 2: Read the specific sheet\n",
    "gs_df = pd.read_excel(file_path, sheet_name=sheet_name, header=0, skiprows=3)"
   ]
  },
  {
   "cell_type": "code",
   "execution_count": 21,
   "id": "376fa6e4",
   "metadata": {},
   "outputs": [],
   "source": [
    "new_table = []\n",
    "for index, row in df.iterrows():\n",
    "    new_row = gs_df.iloc[0].copy()\n",
    "    new_row['Sample Source ID'] = row[\"Metadata_sample_id\"]\n",
    "    new_row['Treatment / BSC code'] = row[\"Metadata_treatments\"]\n",
    "    new_row['Treatment / Dosage unit'] = \"Mikromolar\"\n",
    "    new_row['Treatment / Dosage'] = row[\"Metadata_concentration\"]\n",
    "    new_row['Sampling time point / Unit'] = \"Hours\"\n",
    "    new_row['Sampling time point / Timepoint'] = row[\"Metadata_timepoint\"]\n",
    "    new_row['Design / Well position X'] = row[\"Metadata_Wells\"][0]\n",
    "    new_row['Design / Well position Y'] = int(row[\"Metadata_Wells\"][1:])\n",
    "    new_row['Alithea / Barcode'] = row[\"Metadata_Barcodes\"]\n",
    "    new_row['Alithea / LibraryName'] = row[\"LibraryName\"]\n",
    "    new_table.append(new_row)\n",
    "    \n",
    "new_table_df = pd.DataFrame(new_table).reset_index(drop=True)\n",
    "new_table_df.columns = new_row.index"
   ]
  },
  {
   "cell_type": "code",
   "execution_count": null,
   "id": "e3da57c1",
   "metadata": {},
   "outputs": [],
   "source": [
    "#df.to_csv(\"full_raw_matrix_and_meta.csv\", index=False)"
   ]
  },
  {
   "cell_type": "code",
   "execution_count": 23,
   "id": "566a5c5a",
   "metadata": {},
   "outputs": [],
   "source": [
    "# Step 4: Save the modified DataFrame along with all original sheets\n",
    "with pd.ExcelWriter(file_path, engine='openpyxl', mode='a', if_sheet_exists='replace') as writer:\n",
    "    # Write the modified DataFrame to the same sheet\n",
    "    new_table_df.to_excel(writer, sheet_name=sheet_name, index=False)"
   ]
  }
 ],
 "metadata": {
  "kernelspec": {
   "display_name": "base",
   "language": "python",
   "name": "python3"
  },
  "language_info": {
   "codemirror_mode": {
    "name": "ipython",
    "version": 3
   },
   "file_extension": ".py",
   "mimetype": "text/x-python",
   "name": "python",
   "nbconvert_exporter": "python",
   "pygments_lexer": "ipython3",
   "version": "3.8.20"
  }
 },
 "nbformat": 4,
 "nbformat_minor": 5
}
