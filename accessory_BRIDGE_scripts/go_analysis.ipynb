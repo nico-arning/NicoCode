{
 "cells": [
  {
   "cell_type": "code",
   "execution_count": 3,
   "metadata": {},
   "outputs": [],
   "source": [
    "taxid = 332648"
   ]
  },
  {
   "cell_type": "markdown",
   "metadata": {},
   "source": [
    "- Where are the other gene IDs\n",
    "- Do this by leiden cluster to see biological underpinning"
   ]
  },
  {
   "cell_type": "code",
   "execution_count": 1,
   "metadata": {},
   "outputs": [],
   "source": [
    "import pandas as pd\n",
    "import scanpy as sc\n",
    "import pickle\n",
    "\n",
    "\n",
    "adata = sc.read(\"lyon_transcriptomics_scanpy_normalised.h5\")\n",
    "df_meta = adata.obs\n",
    "gene_names = adata.var.index\n",
    "adata = None\n",
    "\n",
    "gene_mapping = pickle.load(open(\"gene_mapping_botrytis.pkl\", \"rb\"))"
   ]
  },
  {
   "cell_type": "code",
   "execution_count": 19,
   "metadata": {},
   "outputs": [],
   "source": [
    "import requests\n",
    "import argparse\n",
    "from concurrent.futures import ThreadPoolExecutor, as_completed\n",
    "\n",
    "# Function to query UniProt for accession IDs based on gene names\n",
    "def get_uniprot_data(gene_name, retries=3):\n",
    "    url = f\"https://rest.uniprot.org/uniprotkb/search?query={gene_name}\"\n",
    "    \n",
    "    for attempt in range(retries):\n",
    "        try:\n",
    "            response = requests.get(url, timeout=10)  # Set timeout\n",
    "            response.raise_for_status()  # Raise an error for bad responses\n",
    "            return response.json()  # Return the JSON response\n",
    "        except requests.Timeout:\n",
    "            print(f\"Timeout occurred for {gene_name}. Retrying... ({attempt + 1}/{retries})\")\n",
    "        except requests.RequestException as e:\n",
    "            print(f\"Request failed for {gene_name}: {e}\")\n",
    "            return None\n",
    "    print(f\"Failed to retrieve data for {gene_name} after {retries} attempts.\")\n",
    "    return None\n",
    "\n",
    "# Function to process each gene's UniProt data\n",
    "def process_gene(gene):\n",
    "    uniprot_data = get_uniprot_data(gene)\n",
    "    results = {}\n",
    "\n",
    "    if uniprot_data and \"results\" in uniprot_data and uniprot_data[\"results\"]:\n",
    "        for entry in uniprot_data[\"results\"]:\n",
    "            # Extract UniProt ID\n",
    "            uniprot_id = entry[\"primaryAccession\"]\n",
    "            \n",
    "            # Extract gene symbols\n",
    "            \n",
    "            if \"geneName\" in entry[\"genes\"][0]:\n",
    "                gene_symbol = entry[\"genes\"][0][\"geneName\"][\"value\"]\n",
    "            else:\n",
    "                gene_symbol = gene\n",
    "\n",
    "            # Extract GO IDs and descriptions\n",
    "            go_terms = []\n",
    "            for go in entry.get(\"uniProtKBCrossReferences\", []):\n",
    "                if go[\"database\"] == \"GO\":\n",
    "                    # Extract the GO ID\n",
    "                    go_id = go[\"id\"]\n",
    "\n",
    "                    # Extract the description from properties\n",
    "                    description = \"No description available\"\n",
    "                    for prop in go.get(\"properties\", []):\n",
    "                        if prop[\"key\"] == \"GoTerm\":\n",
    "                            description = prop[\"value\"]\n",
    "\n",
    "                    go_terms.append((go_id, description))\n",
    "\n",
    "            # Store results\n",
    "            results[gene] = {\n",
    "                \"uniprot_id\": uniprot_id,\n",
    "                \"go_terms\": go_terms\n",
    "            }\n",
    "    else:\n",
    "        results[gene] = \"No data found\"\n",
    "        gene_symbol = gene\n",
    "\n",
    "    return results, gene_symbol\n",
    "\n",
    "def download_gos_from_uniprot(gene_names):\n",
    "    results = {}\n",
    "    ensemble2symbol = {}\n",
    "\n",
    "    # Use ThreadPoolExecutor to make concurrent requests\n",
    "    with ThreadPoolExecutor(max_workers=10) as executor:\n",
    "        future_to_gene = {executor.submit(process_gene, gene): gene for gene in gene_names}\n",
    "        \n",
    "        for future in as_completed(future_to_gene):\n",
    "            gene = future_to_gene[future]\n",
    "            #try\n",
    "            data, gene_symbol = future.result()\n",
    "            results.update(data)\n",
    "            if gene_symbol != gene:\n",
    "                ensemble2symbol[gene] = gene_symbol\n",
    "                \n",
    "            #except Exception as e:\n",
    "            #     print(f\"Error processing {gene}: {e}\")\n",
    "    \n",
    "    ensemble2go_term = {}\n",
    "    for gene_id, values in results.items():\n",
    "        if values == \"No data found\":\n",
    "            ensemble2go_term[gene_id] = {\n",
    "                \"go_terms\": set()\n",
    "            }\n",
    "        else:\n",
    "            ensemble2go_term[gene_id] = {\n",
    "                \"go_terms\": set([x[0] for x in values[\"go_terms\"]])\n",
    "            }\n",
    "    return ensemble2go_term, ensemble2symbol"
   ]
  },
  {
   "cell_type": "code",
   "execution_count": 20,
   "metadata": {},
   "outputs": [],
   "source": [
    "#ensemble2go_term, ensemble2symbol = download_gos_from_uniprot(gene_names)"
   ]
  },
  {
   "cell_type": "code",
   "execution_count": 21,
   "metadata": {},
   "outputs": [],
   "source": [
    "#ensemble2go_term = download_gos_from_uniprot(all_gene_names)\n",
    "#pickle.dump(ensemble2go_term, open(\"botrytis_ensemble2go_term.pkl\", \"wb\"))"
   ]
  },
  {
   "cell_type": "code",
   "execution_count": 22,
   "metadata": {},
   "outputs": [],
   "source": [
    "ensemble2go_term = pickle.load(open(\"botrytis_ensemble2go_term.pkl\", \"rb\"))"
   ]
  },
  {
   "cell_type": "code",
   "execution_count": 23,
   "metadata": {},
   "outputs": [
    {
     "name": "stdout",
     "output_type": "stream",
     "text": [
      "/home/ec2-user/picassoxbridgedata_coupled/go.obo: fmt(1.2) rel(2024-11-03) 43,983 Terms\n"
     ]
    }
   ],
   "source": [
    "from goatools.obo_parser import GODag\n",
    "from goatools.anno.genetogo_reader import Gene2GoReader\n",
    "\n",
    "obodag = GODag(\"/home/ec2-user/picassoxbridgedata_coupled/go.obo\" )"
   ]
  },
  {
   "cell_type": "code",
   "execution_count": 24,
   "metadata": {},
   "outputs": [
    {
     "name": "stdout",
     "output_type": "stream",
     "text": [
      "GO term GO:0045226 not found in OBO DAG\n",
      "GO term GO:0061483 not found in OBO DAG\n",
      "GO term GO:0061780 not found in OBO DAG\n"
     ]
    }
   ],
   "source": [
    "category_mapping = {\n",
    "    \"biological_process\": \"BP\",\n",
    "    \"molecular_function\": \"MF\",\n",
    "    \"cellular_component\": \"CC\"\n",
    "}\n",
    "ensemble2go_term_by_category = {category: {} for category in category_mapping.values()}\n",
    "\n",
    "for gene, go_terms in ensemble2go_term.items():\n",
    "    for go_term in go_terms:\n",
    "        if go_term not in obodag:\n",
    "            print(f\"GO term {go_term} not found in OBO DAG\")\n",
    "            continue\n",
    "        category = category_mapping[obodag[go_term].namespace]\n",
    "        if gene not in ensemble2go_term_by_category[category]:\n",
    "            ensemble2go_term_by_category[category][gene] = set()\n",
    "        ensemble2go_term_by_category[category][gene].add(go_term)"
   ]
  },
  {
   "cell_type": "code",
   "execution_count": 28,
   "metadata": {},
   "outputs": [
    {
     "name": "stdout",
     "output_type": "stream",
     "text": [
      "\n",
      "Load BP Ontology Enrichment Analysis ...\n",
      " 39%  4,493 of 11,388 population items found in association\n",
      "\n",
      "Load CC Ontology Enrichment Analysis ...\n",
      " 53%  6,067 of 11,388 population items found in association\n",
      "\n",
      "Load MF Ontology Enrichment Analysis ...\n",
      " 53%  6,033 of 11,388 population items found in association\n"
     ]
    }
   ],
   "source": [
    "from goatools.goea.go_enrichment_ns import GOEnrichmentStudyNS\n",
    "\n",
    "# Perform GO enrichment analysis\n",
    "\n",
    "goeaobj = GOEnrichmentStudyNS(\n",
    "    gene_names,  # List of population gene IDs\n",
    "    ensemble2go_term_by_category,  # geneid/GO associations\n",
    "    obodag,  # Ontologies\n",
    "    propagate_counts=False,\n",
    "    alpha=0.05,  # default significance cut-off\n",
    "    methods=[\"fdr_bh\"],  # default multipletest correction method\n",
    ")"
   ]
  },
  {
   "cell_type": "code",
   "execution_count": 43,
   "metadata": {},
   "outputs": [],
   "source": [
    "import re\n",
    "from goatools.godag_plot import plot_gos, plot_results, plot_goid2goobj\n",
    "import os\n",
    "\n",
    "def go_per_target(target):\n",
    "\n",
    "    sig_table = f\"differential_expression_tables/{target}_differential_expression.csv\"\n",
    "    if not os.path.isfile(sig_table):\n",
    "        print(f\"Missing differential expression table for {target}\")\n",
    "        return\n",
    "    sig_table = pd.read_csv(sig_table, index_col=0)\n",
    "    \n",
    "    target = re.sub(r'\\W+', '_', target)\n",
    "\n",
    "    if os.path.isfile(f\"go_plots/{target}_GO_enrichment_terms.png\"):\n",
    "        return\n",
    "    \n",
    "    sig_hits = sig_table[\n",
    "        (sig_table[\"padj\"] < 0.05) & (sig_table[\"log2FoldChange\"].abs() > 1)\n",
    "    ]\n",
    "    goea_results_all = goeaobj.run_study( sig_hits.index, prt=None)\n",
    "    goea_results_sig = [r for r in goea_results_all if r.p_fdr_bh < 0.05]\n",
    "    goeaobj.wr_xlsx(f\"go_plots/{target}.xlsx\", goea_results_sig)\n",
    "    plot_results(f\"go_plots/{target}_GO_enrichment.png\", goea_results_sig)\n",
    "    go_ids = [x.__dict__[\"GO\"] for x in goea_results_sig] \n",
    "    plot_gos(\n",
    "        f\"go_plots/{target}_GO_enrichment_terms.png\", \n",
    "        go_ids, # Source GO ids\n",
    "        obodag,\n",
    "        goea_results=goea_results_sig, # use pvals for coloring\n",
    "        # We can further configure the plot...\n",
    "        id2symbol=gene_mapping, # Print study gene Symbols, not Entrez GeneIDs\n",
    "        study_items=6, # Only only 6 gene Symbols max on GO terms\n",
    "        items_p_line=5, # Print 3 genes per line\n",
    "        title = f\"{target} GO enrichment\",\n",
    "    )\n",
    "    \n"
   ]
  },
  {
   "cell_type": "code",
   "execution_count": 30,
   "metadata": {},
   "outputs": [],
   "source": [
    "leiden_dict = pickle.load(open(\"leiden_dict_lyon.pkl\", \"rb\"))"
   ]
  },
  {
   "cell_type": "code",
   "execution_count": 31,
   "metadata": {},
   "outputs": [],
   "source": [
    "df_meta[\"Metadata_leiden\"] = df_meta[\"Metadata_treatments\"].map(leiden_dict)"
   ]
  },
  {
   "cell_type": "code",
   "execution_count": 33,
   "metadata": {},
   "outputs": [],
   "source": [
    "all_targets = df_meta[df_meta[\"Metadata_target\"] != \"DMSO\"][\"Metadata_leiden\"].unique()"
   ]
  },
  {
   "cell_type": "code",
   "execution_count": 36,
   "metadata": {},
   "outputs": [],
   "source": [
    "# sig_table = pd.read_csv(f\"differential_expression_tables/{target}_differential_expression.csv\", index_col=0)\n",
    "# target = re.sub(r'\\W+', '_', target)\n",
    "# sig_hits = sig_table[\n",
    "#     (sig_table[\"padj\"] < 0.05) & (sig_table[\"log2FoldChange\"].abs() > 1)\n",
    "# ]\n",
    "\n",
    "# gene_symbols = [ensemble2symbol[x] for x in sig_hits.index if x in ensemble2symbol]\n",
    "# all_gene_symbols = [ensemble2symbol[x] for x in gene_names if x in ensemble2symbol]"
   ]
  },
  {
   "cell_type": "code",
   "execution_count": 44,
   "metadata": {},
   "outputs": [
    {
     "name": "stdout",
     "output_type": "stream",
     "text": [
      "Missing differential expression table for Leiden cluster 7\n",
      "Missing differential expression table for Leiden cluster 4\n",
      "     25 items WROTE: go_plots/Leiden_cluster_12.xlsx\n",
      "   25 usr  95 GOs  WROTE: go_plots/Leiden_cluster_12_GO_enrichment.png\n",
      "   25 usr  95 GOs  WROTE: go_plots/Leiden_cluster_12_GO_enrichment_terms.png\n",
      "      8 items WROTE: go_plots/Leiden_cluster_13.xlsx\n",
      "    8 usr  28 GOs  WROTE: go_plots/Leiden_cluster_13_GO_enrichment.png\n",
      "    8 usr  28 GOs  WROTE: go_plots/Leiden_cluster_13_GO_enrichment_terms.png\n",
      "**WARNING: NOT WRITING go_plots/Leiden_cluster_6.xlsx; NO ENRICHMENT RESULTS\n",
      "    0 usr   0 GOs  WROTE: go_plots/Leiden_cluster_6_GO_enrichment.png\n",
      "    0 usr   0 GOs  WROTE: go_plots/Leiden_cluster_6_GO_enrichment_terms.png\n",
      "      7 items WROTE: go_plots/Leiden_cluster_8.xlsx\n",
      "    7 usr  29 GOs  WROTE: go_plots/Leiden_cluster_8_GO_enrichment.png\n",
      "    7 usr  29 GOs  WROTE: go_plots/Leiden_cluster_8_GO_enrichment_terms.png\n",
      "      3 items WROTE: go_plots/Leiden_cluster_5.xlsx\n",
      "    3 usr  13 GOs  WROTE: go_plots/Leiden_cluster_5_GO_enrichment.png\n",
      "    3 usr  13 GOs  WROTE: go_plots/Leiden_cluster_5_GO_enrichment_terms.png\n",
      "      1 items WROTE: go_plots/Leiden_cluster_3.xlsx\n",
      "    1 usr   7 GOs  WROTE: go_plots/Leiden_cluster_3_GO_enrichment.png\n",
      "    1 usr   7 GOs  WROTE: go_plots/Leiden_cluster_3_GO_enrichment_terms.png\n"
     ]
    },
    {
     "data": {
      "text/plain": [
       "[None,\n",
       " None,\n",
       " None,\n",
       " None,\n",
       " None,\n",
       " None,\n",
       " None,\n",
       " None,\n",
       " None,\n",
       " None,\n",
       " None,\n",
       " None,\n",
       " None,\n",
       " None,\n",
       " None,\n",
       " None,\n",
       " None]"
      ]
     },
     "execution_count": 44,
     "metadata": {},
     "output_type": "execute_result"
    }
   ],
   "source": [
    "list(map(go_per_target, all_targets))"
   ]
  },
  {
   "cell_type": "code",
   "execution_count": 45,
   "metadata": {},
   "outputs": [
    {
     "name": "stdout",
     "output_type": "stream",
     "text": [
      "/home/ec2-user/picassoxbridgedata_coupled\n"
     ]
    },
    {
     "data": {
      "text/plain": [
       "0"
      ]
     },
     "execution_count": 45,
     "metadata": {},
     "output_type": "execute_result"
    }
   ],
   "source": [
    "os.system(\"pwd\")"
   ]
  },
  {
   "cell_type": "code",
   "execution_count": null,
   "metadata": {},
   "outputs": [],
   "source": []
  }
 ],
 "metadata": {
  "kernelspec": {
   "display_name": "bridge_env",
   "language": "python",
   "name": "python3"
  },
  "language_info": {
   "codemirror_mode": {
    "name": "ipython",
    "version": 3
   },
   "file_extension": ".py",
   "mimetype": "text/x-python",
   "name": "python",
   "nbconvert_exporter": "python",
   "pygments_lexer": "ipython3",
   "version": "3.11.7"
  }
 },
 "nbformat": 4,
 "nbformat_minor": 2
}
